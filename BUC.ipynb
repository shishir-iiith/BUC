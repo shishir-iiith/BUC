{
 "cells": [
  {
   "cell_type": "code",
   "execution_count": 1,
   "metadata": {},
   "outputs": [],
   "source": [
    "import random\n",
    "from tqdm.notebook import tqdm\n",
    "from datetime import datetime"
   ]
  },
  {
   "cell_type": "code",
   "execution_count": 2,
   "metadata": {},
   "outputs": [],
   "source": [
    "import pandas as pd\n",
    "\n",
    "file = pd.read_excel(r\"master.xlsx\")"
   ]
  },
  {
   "cell_type": "code",
   "execution_count": 3,
   "metadata": {},
   "outputs": [
    {
     "data": {
      "text/plain": [
       "Index(['country', 'year', 'sex', 'age', 'suicides_no', 'population',\n",
       "       'suicides/100k pop', 'country-year', 'HDI for year',\n",
       "       ' gdp_for_year ($) ', 'gdp_per_capita ($)', 'generation'],\n",
       "      dtype='object')"
      ]
     },
     "execution_count": 3,
     "metadata": {},
     "output_type": "execute_result"
    }
   ],
   "source": [
    "columns = file.columns\n",
    "columns"
   ]
  },
  {
   "cell_type": "markdown",
   "metadata": {},
   "source": [
    "## BUC Implementation"
   ]
  },
  {
   "cell_type": "code",
   "execution_count": 4,
   "metadata": {},
   "outputs": [],
   "source": [
    "from mysql import connector as msql"
   ]
  },
  {
   "cell_type": "code",
   "execution_count": 5,
   "metadata": {},
   "outputs": [],
   "source": [
    "connection = msql.connect(host='localhost',user='root', password='root', database='ass')\n",
    "cursor = connection.cursor()\n",
    "\n",
    "query = \"\"\"SELECT country, year, generation, age, suicides_no FROM master\n",
    "GROUP BY country, year, generation, age, suicides_no LIMIT 3000\"\"\"\n",
    "\n",
    "cursor.execute(query)"
   ]
  },
  {
   "cell_type": "code",
   "execution_count": 6,
   "metadata": {},
   "outputs": [
    {
     "data": {
      "text/plain": [
       "3000"
      ]
     },
     "execution_count": 6,
     "metadata": {},
     "output_type": "execute_result"
    }
   ],
   "source": [
    "record = cursor.fetchall() \n",
    "cursor.close()\n",
    "len(record)"
   ]
  },
  {
   "cell_type": "code",
   "execution_count": 7,
   "metadata": {},
   "outputs": [],
   "source": [
    "import numpy as np"
   ]
  },
  {
   "cell_type": "markdown",
   "metadata": {},
   "source": [
    "#### Function for BUC"
   ]
  },
  {
   "cell_type": "code",
   "execution_count": 8,
   "metadata": {},
   "outputs": [],
   "source": [
    "\n",
    "fields = ['country', 'year', 'generation', 'age', 'suicides_no']\n",
    "\n",
    "def BUC(input_relation, d, sequence,seq_ele, min_support): # d=0, sequence = '0'\n",
    "    # new_table = \"temptable\" + f\"{dim}\"\n",
    "    for dim in np.arange(d, len(fields)):\n",
    "        \n",
    "        cursor = connection.cursor()\n",
    "        cursor.execute(\"SELECT \" + fields[dim]+ \", COUNT(*) FROM master GROUP BY \"+ fields[dim])\n",
    "        current_table = cursor.fetchall()\n",
    "        cursor.close()\n",
    "        cardinality = len(current_table)\n",
    "        data = []\n",
    "        for i in range(cardinality):\n",
    "            #print(seq_ele+f'{current_table[i][0]}')\n",
    "            #np.savetxt(sequence+f'{dim}'+'.txt',[seq_ele+f' {current_table[i][0]} = {current_table[i][1]} '], delimiter=\" \", fmt=\"%s\")\n",
    "            if current_table[i][1] >= min_support:\n",
    "                cursor = connection.cursor()\n",
    "                cursor.execute(\"SELECT * FROM master WHERE \"+fields[dim]+\" = \"+f\"\\\"{current_table[i][0]}\\\"\")\n",
    "                new_table = cursor.fetchall()\n",
    "                cursor.close()\n",
    "                data.append([seq_ele+f'{current_table[i][0]} = {current_table[i][1]}'])\n",
    "                BUC(new_table, dim+1, sequence+f'{dim}', seq_ele+f' {current_table[i][0]} ', min_support)\n",
    "        np.savetxt(sequence+f'{dim}'+'.txt', data, delimiter=\" - \", fmt=\"%s\") \n",
    "    #np.savetxt('cube.txt', data, delimiter=\" - \", fmt=\"%s\")  \n",
    "\n",
    "                \n",
    "    "
   ]
  },
  {
   "cell_type": "markdown",
   "metadata": {},
   "source": [
    "##### Executing BUC"
   ]
  },
  {
   "cell_type": "code",
   "execution_count": 9,
   "metadata": {},
   "outputs": [
    {
     "data": {
      "application/vnd.jupyter.widget-view+json": {
       "model_id": "1f55d0cf0af24d7aacdf9a8487e15945",
       "version_major": 2,
       "version_minor": 0
      },
      "text/plain": [
       "  0%|          | 0/5 [00:00<?, ?it/s]"
      ]
     },
     "metadata": {},
     "output_type": "display_data"
    }
   ],
   "source": [
    "minimum_support = [700, 800, 900, 1100, 1300]\n",
    "duration = []\n",
    "\n",
    "for i in tqdm(range(len(minimum_support))):\n",
    "    min_support = minimum_support[i]\n",
    "    start_time = datetime.now()\n",
    "\n",
    "    BUC(record, 0, '', '', min_support)\n",
    "\n",
    "    end_time = datetime.now()\n",
    "    dur = (end_time - start_time)\n",
    "    duration.append(dur.total_seconds())"
   ]
  },
  {
   "cell_type": "code",
   "execution_count": 10,
   "metadata": {},
   "outputs": [
    {
     "data": {
      "text/plain": [
       "[259.536101, 210.64067, 172.657538, 8.283332, 6.868788]"
      ]
     },
     "execution_count": 10,
     "metadata": {},
     "output_type": "execute_result"
    }
   ],
   "source": [
    "duration"
   ]
  },
  {
   "cell_type": "code",
   "execution_count": 16,
   "metadata": {},
   "outputs": [
    {
     "name": "stderr",
     "output_type": "stream",
     "text": [
      "c:\\Users\\ASUS\\AppData\\Local\\Programs\\Python\\Python39\\lib\\site-packages\\seaborn\\_decorators.py:36: FutureWarning: Pass the following variables as keyword args: x, y. From version 0.12, the only valid positional argument will be `data`, and passing other arguments without an explicit keyword will result in an error or misinterpretation.\n",
      "  warnings.warn(\n"
     ]
    },
    {
     "data": {
      "image/png": "[encoded data removed]",
      "text/plain": [
       "<Figure size 792x432 with 1 Axes>"
      ]
     },
     "metadata": {},
     "output_type": "display_data"
    }
   ],
   "source": [
    "import seaborn as sns\n",
    "import matplotlib.pyplot as plt\n",
    "\n",
    "plt.style.use('ggplot')\n",
    "plt.figure(figsize=(11, 6))\n",
    "sns.lineplot(minimum_support, duration)\n",
    "plt.xlabel('Minimum support value')\n",
    "plt.ylabel('Runtime (seconds)')\n",
    "plt.title('Runtime v/s min_support plot')\n",
    "plt.show()"
   ]
  },
  {
   "cell_type": "code",
   "execution_count": null,
   "metadata": {},
   "outputs": [],
   "source": []
  }
 ],
 "metadata": {
  "kernelspec": {
   "display_name": "Python 3.9.7 64-bit",
   "language": "python",
   "name": "python3"
  },
  "language_info": {
   "codemirror_mode": {
    "name": "ipython",
    "version": 3
   },
   "file_extension": ".py",
   "mimetype": "text/x-python",
   "name": "python",
   "nbconvert_exporter": "python",
   "pygments_lexer": "ipython3",
   "version": "3.9.7"
  },
  "orig_nbformat": 4,
  "vscode": {
   "interpreter": {
    "hash": "14958d3aee5f1cad06795f787e54b96185c25fb40dfec723a5be941f3a531b8c"
   }
  }
 },
 "nbformat": 4,
 "nbformat_minor": 2
}
